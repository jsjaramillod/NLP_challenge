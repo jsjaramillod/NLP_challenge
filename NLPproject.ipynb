{
 "cells": [
  {
   "cell_type": "markdown",
   "id": "63084ee0-5d66-4be4-a0e8-7e197118cb37",
   "metadata": {},
   "source": [
    "# 1. Load the packages and the data"
   ]
  },
  {
   "cell_type": "code",
   "execution_count": 56,
   "id": "97b1d97c-aea3-403f-ab98-3e41de21b815",
   "metadata": {},
   "outputs": [
    {
     "name": "stderr",
     "output_type": "stream",
     "text": [
      "[nltk_data] Downloading package stopwords to\n",
      "[nltk_data]     /Users/jsjaramillo/nltk_data...\n",
      "[nltk_data]   Unzipping corpora/stopwords.zip.\n"
     ]
    },
    {
     "data": {
      "text/plain": [
       "True"
      ]
     },
     "execution_count": 56,
     "metadata": {},
     "output_type": "execute_result"
    }
   ],
   "source": [
    "import numpy as np \n",
    "import pandas as pd \n",
    "import seaborn as sns\n",
    "import re\n",
    "import nltk\n",
    "import matplotlib.pyplot as plt\n",
    "from sklearn.model_selection import train_test_split\n",
    "from sklearn.feature_extraction.text import TfidfVectorizer\n",
    "from sklearn.linear_model import LinearRegression\n",
    "from sklearn.linear_model import LogisticRegression\n",
    "from sklearn.metrics import accuracy_score, classification_report\n",
    "from sklearn.metrics import mean_squared_error\n",
    "from nltk.corpus import stopwords\n",
    "from nltk.tokenize import word_tokenize\n",
    "from nltk.stem import PorterStemmer\n",
    "from nltk.stem.wordnet import WordNetLemmatizer\n",
    "from bs4 import BeautifulSoup\n",
    "from sklearn.neighbors import KNeighborsClassifier\n",
    "\n",
    "\n",
    "\n",
    "nltk.download('stopwords')\n"
   ]
  },
  {
   "cell_type": "code",
   "execution_count": 59,
   "id": "01d0a984-ece6-4273-b5d0-3805a307dd5c",
   "metadata": {},
   "outputs": [],
   "source": [
    "df = pd.read_csv('/Users/jsjaramillo/Desktop/NLP_Challenge/IMDB Dataset.csv')\n"
   ]
  },
  {
   "cell_type": "markdown",
   "id": "abe95352-f816-4e60-b8bb-755062246a1f",
   "metadata": {},
   "source": [
    "# 2. Let's Explore the data set \n",
    "An example of the information that we have in our data set, this can help us to determine if the data set is balanced and if needed extra preproessing."
   ]
  },
  {
   "cell_type": "code",
   "execution_count": 61,
   "id": "2f95963b-c365-452d-88d8-496d8a7a3267",
   "metadata": {},
   "outputs": [
    {
     "data": {
      "text/plain": [
       "'A wonderful little production. <br /><br />The filming technique is very unassuming- very old-time-BBC fashion and gives a comforting, and sometimes discomforting, sense of realism to the entire piece. <br /><br />The actors are extremely well chosen- Michael Sheen not only \"has got all the polari\" but he has all the voices down pat too! You can truly see the seamless editing guided by the references to Williams\\' diary entries, not only is it well worth the watching but it is a terrificly written and performed piece. A masterful production about one of the great master\\'s of comedy and his life. <br /><br />The realism really comes home with the little things: the fantasy of the guard which, rather than use the traditional \\'dream\\' techniques remains solid then disappears. It plays on our knowledge and our senses, particularly with the scenes concerning Orton and Halliwell and the sets (particularly of their flat with Halliwell\\'s murals decorating every surface) are terribly well done.'"
      ]
     },
     "execution_count": 61,
     "metadata": {},
     "output_type": "execute_result"
    }
   ],
   "source": [
    "df['review'][1]"
   ]
  },
  {
   "cell_type": "code",
   "execution_count": 120,
   "id": "96c0f831-5887-497e-9e53-e447354015bc",
   "metadata": {},
   "outputs": [
    {
     "name": "stdout",
     "output_type": "stream",
     "text": [
      "NULL: review          0\n",
      "sentiment       0\n",
      "clean_review    0\n",
      "dtype: int64 \n",
      "\n",
      "Duplicates: 418 \n",
      "\n",
      "Distribution: sentiment\n",
      "1    25000\n",
      "0    25000\n",
      "Name: count, dtype: int64\n"
     ]
    }
   ],
   "source": [
    "# Check for missing values, duplicates, and class balance\n",
    "print(\"NULL:\", df.isnull().sum(), '\\n')\n",
    "print(\"Duplicates:\", df.duplicated().sum(), '\\n')\n",
    "print(\"Distribution:\",df['sentiment'].value_counts())\n"
   ]
  },
  {
   "cell_type": "markdown",
   "id": "122631f0-82c5-45fa-ab40-51446947cd89",
   "metadata": {},
   "source": [
    "We observe that the text in the review column of our data frame might contain HTML tags. Also, there are around 418 duplicates. The data set is perfectly balanced between positive and negative reviews."
   ]
  },
  {
   "cell_type": "markdown",
   "id": "fd9c7dbd-dffe-4610-bd84-eb1ff006cc80",
   "metadata": {},
   "source": [
    "# 3. Preprocessing\n",
    "\n"
   ]
  },
  {
   "cell_type": "code",
   "execution_count": 65,
   "id": "06e42395-7172-4ec3-a807-33e20773368c",
   "metadata": {},
   "outputs": [
    {
     "name": "stderr",
     "output_type": "stream",
     "text": [
      "/var/folders/gd/xlvgsvz1725fp8xqfp59nr9r0000gn/T/ipykernel_87738/4279740953.py:4: MarkupResemblesLocatorWarning: The input looks more like a filename than markup. You may want to open this file and pass the filehandle into Beautiful Soup.\n",
      "  text = BeautifulSoup(text, \"html.parser\").get_text()  # remove HTML\n"
     ]
    }
   ],
   "source": [
    "\n",
    "stop_words = set(stopwords.words('english'))\n",
    "\n",
    "def clean_text(text):\n",
    "    text = BeautifulSoup(text, \"html.parser\").get_text()  # remove HTML\n",
    "    text = re.sub(r\"[^a-zA-Z]\", \" \", text)  # remove punctuation\n",
    "    text = text.lower().split()  # tokenize and lowercase\n",
    "    text = [w for w in text if not w in stop_words]  # remove stopwords\n",
    "    return \" \".join(text)\n",
    "\n",
    "df['clean_review'] = df['review'].apply(clean_text)\n"
   ]
  },
  {
   "cell_type": "markdown",
   "id": "96bfdf2e-6102-424a-8342-c0d3ca649027",
   "metadata": {},
   "source": [
    "Convert the sentiment values to boolean, 1 if the sentiment is positive, and 0 if the sentiment is negative."
   ]
  },
  {
   "cell_type": "code",
   "execution_count": 66,
   "id": "c7ae0e24-1d14-423e-a4b6-003ea84d9c68",
   "metadata": {},
   "outputs": [
    {
     "name": "stderr",
     "output_type": "stream",
     "text": [
      "/var/folders/gd/xlvgsvz1725fp8xqfp59nr9r0000gn/T/ipykernel_87738/3229850219.py:1: FutureWarning: Downcasting behavior in `replace` is deprecated and will be removed in a future version. To retain the old behavior, explicitly call `result.infer_objects(copy=False)`. To opt-in to the future behavior, set `pd.set_option('future.no_silent_downcasting', True)`\n",
      "  df.replace({\"sentiment\": {\"positive\": 1, \"negative\": 0}}, inplace=True)\n"
     ]
    }
   ],
   "source": [
    "df.replace({\"sentiment\": {\"positive\": 1, \"negative\": 0}}, inplace=True)\n"
   ]
  },
  {
   "cell_type": "markdown",
   "id": "6e210302-4222-484f-bddf-eb4d4c6ecf21",
   "metadata": {},
   "source": [
    "# 4. Train-test split"
   ]
  },
  {
   "cell_type": "code",
   "execution_count": 69,
   "id": "d6b6ab5f-7820-4762-9282-36c29b7cb8b4",
   "metadata": {},
   "outputs": [],
   "source": [
    "\n",
    "X_train, X_test, y_train, y_test = train_test_split(df['clean_review'], df['sentiment'], test_size=0.2, random_state=42)\n"
   ]
  },
  {
   "cell_type": "code",
   "execution_count": 48,
   "id": "0256f918-397c-44f1-a5e9-a50f3fec0d44",
   "metadata": {},
   "outputs": [
    {
     "name": "stdout",
     "output_type": "stream",
     "text": [
      "train size: (40000, 2)\n",
      "test size: (10000, 2)\n"
     ]
    }
   ],
   "source": [
    "print('train size:', df_train.shape)\n",
    "print('test size:', df_test.shape)\n"
   ]
  },
  {
   "cell_type": "code",
   "execution_count": 89,
   "id": "7eeefaaa-99e2-4fc2-842a-d5a02be6c0ae",
   "metadata": {},
   "outputs": [],
   "source": [
    "\n",
    "vectorizer = TfidfVectorizer(max_features=5000)\n",
    "X_train_vec = vectorizer.fit_transform(X_train)\n",
    "X_test_vec = vectorizer.transform(X_test)\n"
   ]
  },
  {
   "cell_type": "markdown",
   "id": "87ce62ff-556f-4dbf-9b68-3c2d04e4cc51",
   "metadata": {},
   "source": [
    "# 5. Models\n",
    "## 5.1 Logistic Regression"
   ]
  },
  {
   "cell_type": "code",
   "execution_count": 91,
   "id": "a24dfd71-f6b2-47fb-aa3a-a8d37d33987c",
   "metadata": {},
   "outputs": [
    {
     "name": "stdout",
     "output_type": "stream",
     "text": [
      "Accuracy: 0.892\n",
      "              precision    recall  f1-score   support\n",
      "\n",
      "           0       0.90      0.88      0.89      4961\n",
      "           1       0.88      0.91      0.89      5039\n",
      "\n",
      "    accuracy                           0.89     10000\n",
      "   macro avg       0.89      0.89      0.89     10000\n",
      "weighted avg       0.89      0.89      0.89     10000\n",
      "\n"
     ]
    }
   ],
   "source": [
    "model = LogisticRegression()\n",
    "model.fit(X_train_vec, y_train)\n",
    "y_pred = model.predict(X_test_vec)\n",
    "\n",
    "print(\"Accuracy:\", accuracy_score(y_test, y_pred))\n",
    "print(classification_report(y_test, y_pred))\n"
   ]
  },
  {
   "cell_type": "markdown",
   "id": "0926ae32-2991-4725-acd7-b91ff62a5ed7",
   "metadata": {},
   "source": [
    "## 5.2 Random Forest"
   ]
  },
  {
   "cell_type": "code",
   "execution_count": 87,
   "id": "3f6005d6-52df-4b60-9367-d46b9c7d00b6",
   "metadata": {},
   "outputs": [
    {
     "name": "stdout",
     "output_type": "stream",
     "text": [
      "Accuracy: 0.8537\n",
      "              precision    recall  f1-score   support\n",
      "\n",
      "           0       0.84      0.87      0.85      4961\n",
      "           1       0.87      0.84      0.85      5039\n",
      "\n",
      "    accuracy                           0.85     10000\n",
      "   macro avg       0.85      0.85      0.85     10000\n",
      "weighted avg       0.85      0.85      0.85     10000\n",
      "\n"
     ]
    }
   ],
   "source": [
    "rf = RandomForestClassifier(n_estimators=100, random_state=42)\n",
    "rf.fit(X_train_vec, y_train)\n",
    "y_pred = rf.predict(X_test_vec)\n",
    "\n",
    "print(\"Accuracy:\", accuracy_score(y_test, y_pred))\n",
    "print(classification_report(y_test, y_pred))\n"
   ]
  },
  {
   "cell_type": "code",
   "execution_count": 77,
   "id": "8ad1c5be-07bb-4254-8108-a2ab2d3aaaea",
   "metadata": {},
   "outputs": [
    {
     "data": {
      "image/png": "[encoded data removed]",
      "text/plain": [
       "<Figure size 640x480 with 2 Axes>"
      ]
     },
     "metadata": {},
     "output_type": "display_data"
    }
   ],
   "source": [
    "from sklearn.metrics import confusion_matrix, ConfusionMatrixDisplay\n",
    "\n",
    "# Predict with your trained model\n",
    "y_pred = rf.predict(X_test_vec)\n",
    "\n",
    "# Generate confusion matrix\n",
    "cm = confusion_matrix(y_test, y_pred)\n",
    "disp = ConfusionMatrixDisplay(confusion_matrix=cm, display_labels=['Negative', 'Positive'])\n",
    "\n",
    "# Plot it\n",
    "disp.plot(cmap=plt.cm.Blues)\n",
    "plt.title(\"Confusion Matrix - Random Forest\")\n",
    "plt.show()\n"
   ]
  },
  {
   "cell_type": "markdown",
   "id": "73f0eb5a-f6e8-4b7c-8d93-f3d5a1030a5a",
   "metadata": {},
   "source": [
    "## 5.3 KNN"
   ]
  },
  {
   "cell_type": "code",
   "execution_count": 128,
   "id": "4b9f9c9b-be46-4ed8-96a6-a6c43d9124f7",
   "metadata": {},
   "outputs": [
    {
     "name": "stdout",
     "output_type": "stream",
     "text": [
      "              precision    recall  f1-score   support\n",
      "\n",
      "           0       0.78      0.68      0.73      4961\n",
      "           1       0.72      0.81      0.76      5039\n",
      "\n",
      "    accuracy                           0.75     10000\n",
      "   macro avg       0.75      0.75      0.75     10000\n",
      "weighted avg       0.75      0.75      0.75     10000\n",
      "\n"
     ]
    }
   ],
   "source": [
    "# Initialize model\n",
    "knn_model = KNeighborsClassifier()\n",
    "\n",
    "# Fit model\n",
    "knn_model.fit(X_train_vec, y_train)\n",
    "\n",
    "# Predict on test set\n",
    "y_pred = knn_model.predict(X_test_vec)\n",
    "\n",
    "# Print classification report\n",
    "print(classification_report(y_test, y_pred))"
   ]
  },
  {
   "cell_type": "code",
   "execution_count": 130,
   "id": "30021194-574b-4159-a9a0-ea6815025f97",
   "metadata": {},
   "outputs": [
    {
     "data": {
      "image/png": "[encoded data removed]",
      "text/plain": [
       "<Figure size 640x480 with 2 Axes>"
      ]
     },
     "metadata": {},
     "output_type": "display_data"
    }
   ],
   "source": [
    "# Generate confusion matrix\n",
    "cm = confusion_matrix(y_test, y_pred)\n",
    "disp = ConfusionMatrixDisplay(confusion_matrix=cm, display_labels=['Negative', 'Positive'])\n",
    "\n",
    "# Plot it\n",
    "disp.plot(cmap=plt.cm.Blues)\n",
    "plt.title(\"Confusion Matrix - KNN\")\n",
    "plt.show()"
   ]
  },
  {
   "cell_type": "markdown",
   "id": "fd39fbcd-eba2-4bfb-8d7f-9d6c003c0ef2",
   "metadata": {},
   "source": [
    "# 6. Results"
   ]
  },
  {
   "cell_type": "markdown",
   "id": "65704ef7-0afd-42c8-984f-b5350a170991",
   "metadata": {},
   "source": [
    "Based on varying metrics like accuracy, recall, precision, and by looking at the confusion matrices, we can determine that logistic regression and random forests were the two best performing models."
   ]
  },
  {
   "cell_type": "markdown",
   "id": "d12ae480-4999-483d-b5d8-ae26a8b89a61",
   "metadata": {},
   "source": [
    "# 7. On new reviews?"
   ]
  },
  {
   "cell_type": "code",
   "execution_count": 113,
   "id": "8c819b1f-edfb-419a-b291-7bdd09ecddc0",
   "metadata": {},
   "outputs": [
    {
     "name": "stdout",
     "output_type": "stream",
     "text": [
      "Predicted Sentiment: Negative\n"
     ]
    }
   ],
   "source": [
    "new_review = \"This movie was boring, I love it so much!\"\n",
    "\n",
    "\n",
    "# Clean and transform the new review\n",
    "cleaned_review = clean_text(new_review)\n",
    "review_vec = vectorizer.transform([cleaned_review])\n",
    "\n",
    "# Predict with your model\n",
    "prediction = rf.predict(review_vec)[0]  # or log_reg.predict(...)\n",
    "\n",
    "# Interpret the result\n",
    "sentiment = \"Positive\" if prediction == 1 else \"Negative\"\n",
    "print(\"Predicted Sentiment:\", sentiment)\n"
   ]
  },
  {
   "cell_type": "code",
   "execution_count": 116,
   "id": "612206e5-26ca-48af-8dd9-a4fdc5acb7db",
   "metadata": {},
   "outputs": [
    {
     "name": "stdout",
     "output_type": "stream",
     "text": [
      "[6, 8, 10, 12, 14]\n"
     ]
    }
   ],
   "source": [
    "nums=[1,2,3,4,5,6,7,8,9]\n",
    "x=[i+5 for i in nums if i%2]\n",
    "print(x)"
   ]
  },
  {
   "cell_type": "code",
   "execution_count": null,
   "id": "1312a08b-6dae-4744-be52-eb35b2e5151a",
   "metadata": {},
   "outputs": [],
   "source": []
  }
 ],
 "metadata": {
  "kernelspec": {
   "display_name": "Python 3 (ipykernel)",
   "language": "python",
   "name": "python3"
  },
  "language_info": {
   "codemirror_mode": {
    "name": "ipython",
    "version": 3
   },
   "file_extension": ".py",
   "mimetype": "text/x-python",
   "name": "python",
   "nbconvert_exporter": "python",
   "pygments_lexer": "ipython3",
   "version": "3.12.7"
  }
 },
 "nbformat": 4,
 "nbformat_minor": 5
}
